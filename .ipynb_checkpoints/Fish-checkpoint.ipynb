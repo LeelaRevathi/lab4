{
 "cells": [
  {
   "cell_type": "code",
   "execution_count": 8,
   "id": "027f6ded",
   "metadata": {},
   "outputs": [
    {
     "name": "stdout",
     "output_type": "stream",
     "text": [
      " * Serving Flask app \"__main__\" (lazy loading)\n",
      " * Environment: production\n",
      "   WARNING: This is a development server. Do not use it in a production deployment.\n",
      "   Use a production WSGI server instead.\n",
      " * Debug mode: off\n"
     ]
    },
    {
     "name": "stderr",
     "output_type": "stream",
     "text": [
      " * Running on http://127.0.0.1:5000/ (Press CTRL+C to quit)\n",
      "127.0.0.1 - - [26/Jul/2022 23:03:27] \"\u001b[37mGET / HTTP/1.1\u001b[0m\" 200 -\n",
      "127.0.0.1 - - [26/Jul/2022 23:03:28] \"\u001b[33mGET /static/css/style.css HTTP/1.1\u001b[0m\" 404 -\n",
      "C:\\Users\\LEELA\\anaconda3\\lib\\site-packages\\sklearn\\utils\\validation.py:73: FutureWarning: Beginning in version 0.22, arrays of bytes/strings will be converted to decimal numbers if dtype='numeric'. It is recommended that you convert the array to a float dtype before using it in scikit-learn, for example by using your_array = your_array.astype(np.float64).\n",
      "  return f(**kwargs)\n",
      "[2022-07-26 23:03:44,108] ERROR in app: Exception on /predict [POST]\n",
      "Traceback (most recent call last):\n",
      "  File \"C:\\Users\\LEELA\\anaconda3\\lib\\site-packages\\flask\\app.py\", line 2447, in wsgi_app\n",
      "    response = self.full_dispatch_request()\n",
      "  File \"C:\\Users\\LEELA\\anaconda3\\lib\\site-packages\\flask\\app.py\", line 1952, in full_dispatch_request\n",
      "    rv = self.handle_user_exception(e)\n",
      "  File \"C:\\Users\\LEELA\\anaconda3\\lib\\site-packages\\flask\\app.py\", line 1821, in handle_user_exception\n",
      "    reraise(exc_type, exc_value, tb)\n",
      "  File \"C:\\Users\\LEELA\\anaconda3\\lib\\site-packages\\flask\\_compat.py\", line 39, in reraise\n",
      "    raise value\n",
      "  File \"C:\\Users\\LEELA\\anaconda3\\lib\\site-packages\\flask\\app.py\", line 1950, in full_dispatch_request\n",
      "    rv = self.dispatch_request()\n",
      "  File \"C:\\Users\\LEELA\\anaconda3\\lib\\site-packages\\flask\\app.py\", line 1936, in dispatch_request\n",
      "    return self.view_functions[rule.endpoint](**req.view_args)\n",
      "  File \"<ipython-input-8-4d78c130e8d8>\", line 22, in predict\n",
      "    prediction = random.predict(final_features)\n",
      "  File \"C:\\Users\\LEELA\\anaconda3\\lib\\site-packages\\sklearn\\linear_model\\_base.py\", line 307, in predict\n",
      "    scores = self.decision_function(X)\n",
      "  File \"C:\\Users\\LEELA\\anaconda3\\lib\\site-packages\\sklearn\\linear_model\\_base.py\", line 289, in decision_function\n",
      "    scores = safe_sparse_dot(X, self.coef_.T,\n",
      "  File \"C:\\Users\\LEELA\\anaconda3\\lib\\site-packages\\sklearn\\utils\\validation.py\", line 73, in inner_f\n",
      "    return f(**kwargs)\n",
      "  File \"C:\\Users\\LEELA\\anaconda3\\lib\\site-packages\\sklearn\\utils\\extmath.py\", line 153, in safe_sparse_dot\n",
      "    ret = a @ b\n",
      "numpy.core._exceptions._UFuncNoLoopError: ufunc 'matmul' did not contain a loop with signature matching types (dtype('<U32'), dtype('<U32')) -> dtype('<U32')\n",
      "127.0.0.1 - - [26/Jul/2022 23:03:44] \"\u001b[35m\u001b[1mPOST /predict HTTP/1.1\u001b[0m\" 500 -\n"
     ]
    }
   ],
   "source": [
    "import numpy as np\n",
    "import pickle\n",
    "import pandas as pd\n",
    "from flask import Flask, request, jsonify, render_template\n",
    "\n",
    "app=Flask(__name__)\n",
    "pickle_in = open(\"Fish_LR.pkl\",\"rb\")\n",
    "lr = pickle.load(pickle_in)\n",
    "\n",
    "@app.route('/')\n",
    "def home():\n",
    "    return render_template('index.html')\n",
    "\n",
    "\n",
    "@app.route('/predict',methods=[\"POST\"])\n",
    "def predict():\n",
    "    \"\"\"\n",
    "    For rendering results on HTML GUI\n",
    "    \"\"\"\n",
    "    int_features = [x for x in request.form.values()]\n",
    "    final_features = [np.array(int_features)]\n",
    "    prediction = lr.predict(final_features)\n",
    "    return render_template('index.html', prediction_text = 'The fish belongs to species {}'.format(str(prediction)))\n",
    "\n",
    "if __name__=='__main__':\n",
    "    app.run()"
   ]
  },
  {
   "cell_type": "code",
   "execution_count": null,
   "id": "310e3958",
   "metadata": {},
   "outputs": [],
   "source": []
  }
 ],
 "metadata": {
  "kernelspec": {
   "display_name": "Python 3",
   "language": "python",
   "name": "python3"
  },
  "language_info": {
   "codemirror_mode": {
    "name": "ipython",
    "version": 3
   },
   "file_extension": ".py",
   "mimetype": "text/x-python",
   "name": "python",
   "nbconvert_exporter": "python",
   "pygments_lexer": "ipython3",
   "version": "3.8.8"
  }
 },
 "nbformat": 4,
 "nbformat_minor": 5
}
